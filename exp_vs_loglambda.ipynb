{
 "cells": [
  {
   "cell_type": "markdown",
   "metadata": {},
   "source": [
    "### Expenditures vs. \\log\\lambda\n",
    "\n"
   ]
  },
  {
   "cell_type": "code",
   "execution_count": 1,
   "metadata": {},
   "outputs": [],
   "source": [
    "%matplotlib inline\n",
    "import cfe\n",
    "import pandas as pd\n",
    "import pylab as pl\n",
    "\n",
    "r0 = cfe.from_dataset('result.ds')\n",
    "\n",
    "# Turn off variation in household composition\n",
    "r0['z'] = r0['z']*0\n",
    "\n",
    "# select years and markets you want\n",
    "l0 = r0.loglambdas.sel(t=75,m='A')\n",
    "\n",
    "# Predicted total expenditures given lambda & prices\n",
    "x0 = r0.get_predicted_expenditures().sum('i').sel(t=75,m='A')\n",
    "\n",
    "pl.scatter(x0,l0)\n",
    "pl.show()"
   ]
  }
 ],
 "metadata": {
  "kernelspec": {
   "display_name": "Python 3",
   "language": "python",
   "name": "python3"
  },
  "language_info": {
   "codemirror_mode": {
    "name": "ipython",
    "version": 3
   },
   "file_extension": ".py",
   "mimetype": "text/x-python",
   "name": "python",
   "nbconvert_exporter": "python",
   "pygments_lexer": "ipython3",
   "version": "3.7.1"
  },
  "org": null
 },
 "nbformat": 4,
 "nbformat_minor": 1
}
